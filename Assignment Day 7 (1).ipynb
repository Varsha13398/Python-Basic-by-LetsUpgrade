{
 "cells": [
  {
   "cell_type": "markdown",
   "metadata": {},
   "source": [
    "### Q1)  For a given dictionary switch keys and values"
   ]
  },
  {
   "cell_type": "code",
   "execution_count": 15,
   "metadata": {},
   "outputs": [
    {
     "name": "stdout",
     "output_type": "stream",
     "text": [
      "port1=  {21: 'FTP', 22: 'SSH', 23: 'TELNET', 80: 'http'}\n",
      "port2=  {'FTP': 21, 'SSH': 22, 'TELNET': 23, 'http': 80}\n"
     ]
    }
   ],
   "source": [
    "port1= {21:\"FTP\",22:\"SSH\",23:\"TELNET\",80:\"http\"}\n",
    "print(\"port1= \", port1)\n",
    "port2={value:key for (key,value) in port1.items()}\n",
    "print(\"port2= \", port2)"
   ]
  },
  {
   "cell_type": "code",
   "execution_count": null,
   "metadata": {},
   "outputs": [],
   "source": []
  },
  {
   "cell_type": "markdown",
   "metadata": {},
   "source": [
    "### Q2) list of sum of the numbers of tuples in list."
   ]
  },
  {
   "cell_type": "code",
   "execution_count": 40,
   "metadata": {},
   "outputs": [
    {
     "name": "stdout",
     "output_type": "stream",
     "text": [
      "list2 =  [33, 99, 119, 109]\n"
     ]
    }
   ],
   "source": [
    "list1=[(21,12),(36,63),(45,74),(72,37)]\n",
    "list2=[]\n",
    "for tuple_ in list1:\n",
    "    list2.append(tuple_[0]+tuple_[1])\n",
    "print(\"list2 = \",list2)\n"
   ]
  },
  {
   "cell_type": "markdown",
   "metadata": {},
   "source": [
    "### Q3) Make the elements of inner lists and tuples to outer list"
   ]
  },
  {
   "cell_type": "code",
   "execution_count": 41,
   "metadata": {},
   "outputs": [
    {
     "name": "stdout",
     "output_type": "stream",
     "text": [
      "[1, 2, 3, 1, 2, 'a', 'hit', 'less']\n"
     ]
    }
   ],
   "source": [
    "list1=[(1,2,3),[1,2],['a','hit','less']]\n",
    "list2=[i for each in list1 for i in each]\n",
    "print(list2)"
   ]
  },
  {
   "cell_type": "code",
   "execution_count": null,
   "metadata": {},
   "outputs": [],
   "source": []
  }
 ],
 "metadata": {
  "kernelspec": {
   "display_name": "Python 3",
   "language": "python",
   "name": "python3"
  },
  "language_info": {
   "codemirror_mode": {
    "name": "ipython",
    "version": 3
   },
   "file_extension": ".py",
   "mimetype": "text/x-python",
   "name": "python",
   "nbconvert_exporter": "python",
   "pygments_lexer": "ipython3",
   "version": "3.7.6"
  }
 },
 "nbformat": 4,
 "nbformat_minor": 4
}
