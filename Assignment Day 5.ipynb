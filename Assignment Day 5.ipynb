{
 "cells": [
  {
   "cell_type": "markdown",
   "metadata": {},
   "source": [
    "## Q1) sort the given list in increasing order but all zeroes in list should be at right hand side.\n"
   ]
  },
  {
   "cell_type": "code",
   "execution_count": 1,
   "metadata": {},
   "outputs": [
    {
     "name": "stdout",
     "output_type": "stream",
     "text": [
      "[1, 1, 2, 2, 3, 3, 4, 5, 5, 6, 8, 9, 0, 0, 0, 0, 0]\n"
     ]
    }
   ],
   "source": [
    "ls = [0,1,2,3,5,8,6,0,9,1,2,3,0,0,5,4,0]\n",
    "ls.sort()\n",
    "ls1 = []\n",
    "ls2 = []\n",
    "ls3 = []\n",
    "\n",
    "for i in ls:\n",
    "    if i == 0:\n",
    "        ls1.append(i)\n",
    "    if i > 0:\n",
    "        ls2.append(i)\n",
    "        \n",
    "ls3 = ls2 + ls1\n",
    "\n",
    "print(ls3)"
   ]
  },
  {
   "cell_type": "code",
   "execution_count": null,
   "metadata": {},
   "outputs": [],
   "source": []
  },
  {
   "cell_type": "markdown",
   "metadata": {},
   "source": [
    "## Q2) Merge the given two sorted lists to produce one sorted list, but use only loop either while or for only one time"
   ]
  },
  {
   "cell_type": "code",
   "execution_count": 5,
   "metadata": {},
   "outputs": [
    {
     "data": {
      "text/plain": [
       "[5, 10, 15, 20, 25, 35, 40, 45, 60, 60, 70, 80]"
      ]
     },
     "execution_count": 5,
     "metadata": {},
     "output_type": "execute_result"
    }
   ],
   "source": [
    "ls1 = [10,20,40,60,70,80]\n",
    "ls2 = [5,15,25,35,45,60]\n",
    "\n",
    "ls3 = ls1 + ls2\n",
    "ls3.sort()\n",
    "ls3"
   ]
  },
  {
   "cell_type": "code",
   "execution_count": 8,
   "metadata": {},
   "outputs": [
    {
     "name": "stdout",
     "output_type": "stream",
     "text": [
      "The combined sorted list is : [5, 10, 15, 20, 25, 35, 40, 45, 60, 60, 70, 80]\n"
     ]
    }
   ],
   "source": [
    "# Using while loop\n",
    "list1 = [10,20,40,60,70,80] \n",
    "list2 = [5,15,25,35,45,60] \n",
    "\n",
    "\n",
    "size_1 = len(list1) \n",
    "size_2 = len(list2) \n",
    "\n",
    "res = [] \n",
    "i, j = 0, 0\n",
    "\n",
    "while i < size_1 and j < size_2:\n",
    "    if list1[i] < list2[j]:\n",
    "        res.append(list1[i])\n",
    "        i += 1\n",
    "    else:\n",
    "        res.append(list2[j])\n",
    "        j += 1\n",
    "\n",
    "res = res + list1[i:] + list2[j:] \n",
    "\n",
    "print (\"The combined sorted list is : \" + str(res))\n"
   ]
  },
  {
   "cell_type": "code",
   "execution_count": null,
   "metadata": {},
   "outputs": [],
   "source": []
  },
  {
   "cell_type": "code",
   "execution_count": null,
   "metadata": {},
   "outputs": [],
   "source": []
  }
 ],
 "metadata": {
  "kernelspec": {
   "display_name": "Python 3",
   "language": "python",
   "name": "python3"
  },
  "language_info": {
   "codemirror_mode": {
    "name": "ipython",
    "version": 3
   },
   "file_extension": ".py",
   "mimetype": "text/x-python",
   "name": "python",
   "nbconvert_exporter": "python",
   "pygments_lexer": "ipython3",
   "version": "3.7.6"
  }
 },
 "nbformat": 4,
 "nbformat_minor": 4
}
