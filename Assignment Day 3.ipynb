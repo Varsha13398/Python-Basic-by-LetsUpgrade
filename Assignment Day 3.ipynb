{
 "cells": [
  {
   "cell_type": "markdown",
   "metadata": {},
   "source": [
    "* Sum of n numbers with the help of while loop\n"
   ]
  },
  {
   "cell_type": "code",
   "execution_count": 2,
   "metadata": {},
   "outputs": [
    {
     "name": "stdout",
     "output_type": "stream",
     "text": [
      "Enter the number: 10\n",
      "Sum of first n numbers is :  55\n"
     ]
    }
   ],
   "source": [
    "n=int(input(\"Enter the number: \"))\n",
    "Sum = 0\n",
    "if n <= 0:\n",
    "    print(\"Enter the number greater than 0\")\n",
    "else: \n",
    "    while n>0:\n",
    "        Sum = Sum+n\n",
    "        n = n-1\n",
    "    print(\"Sum of first n numbers is : \", Sum)"
   ]
  },
  {
   "cell_type": "markdown",
   "metadata": {},
   "source": [
    " * Take an integer and check whether the number  is prime or not"
   ]
  },
  {
   "cell_type": "code",
   "execution_count": 10,
   "metadata": {},
   "outputs": [
    {
     "name": "stdout",
     "output_type": "stream",
     "text": [
      "Enter the value : 5\n",
      "5 is prime number\n"
     ]
    }
   ],
   "source": [
    "n=int(input(\"Enter the value : \"))\n",
    "if n >1:\n",
    "    for i in range(2,n):\n",
    "        if (n % i)==0:\n",
    "            print(n, \"is not a prime number\")\n",
    "        else:\n",
    "            print(n,\"is prime number\")\n",
    "            break\n",
    "else:\n",
    "    print(n,\"is not a prime number\")\n",
    "    "
   ]
  },
  {
   "cell_type": "code",
   "execution_count": null,
   "metadata": {},
   "outputs": [],
   "source": []
  },
  {
   "cell_type": "code",
   "execution_count": null,
   "metadata": {},
   "outputs": [],
   "source": []
  }
 ],
 "metadata": {
  "kernelspec": {
   "display_name": "Python 3",
   "language": "python",
   "name": "python3"
  },
  "language_info": {
   "codemirror_mode": {
    "name": "ipython",
    "version": 3
   },
   "file_extension": ".py",
   "mimetype": "text/x-python",
   "name": "python",
   "nbconvert_exporter": "python",
   "pygments_lexer": "ipython3",
   "version": "3.7.6"
  }
 },
 "nbformat": 4,
 "nbformat_minor": 4
}
